{
 "cells": [
  {
   "cell_type": "code",
   "execution_count": 1,
   "metadata": {},
   "outputs": [],
   "source": [
    "from PIL import Image\n",
    "import pywt\n",
    "import os\n",
    "import numpy as np\n",
    "import pandas as pd\n",
    "from sklearn import preprocessing\n",
    "import sys\n",
    "\n",
    "original_stdout = sys.stdout"
   ]
  },
  {
   "cell_type": "code",
   "execution_count": 2,
   "metadata": {},
   "outputs": [],
   "source": [
    "PATH = './leedsbutterfly/images/'\n",
    "FILE_NAMES = os.listdir(PATH)"
   ]
  },
  {
   "cell_type": "code",
   "execution_count": 3,
   "metadata": {},
   "outputs": [],
   "source": [
    "def get_FV(image, it=5):\n",
    "    LL, (LH, HL, HH) = pywt.dwt2(image, 'haar')\n",
    "    for _ in range(it):\n",
    "        LL, (LH, HL, HH) = pywt.dwt2(LL, 'haar')\n",
    "    return LL.flatten()"
   ]
  },
  {
   "cell_type": "code",
   "execution_count": 4,
   "metadata": {},
   "outputs": [],
   "source": [
    "# cuts = [6]\n",
    "# for c in cuts:\n",
    "#     FVs = []\n",
    "#     for im in os.listdir(PATH):\n",
    "#         image = Image.open(PATH + im).resize((100, 100))\n",
    "#         mt_image = np.asarray(image).astype(int)\n",
    "#         FVs.append(get_FV(mt_image, c).tolist())\n",
    "#     cols = len(FVs[0])\n",
    "#     df = pd.DataFrame(FVs, columns=[str(_) for _ in range(cols)])\n",
    "#     x = df.values #returns a numpy array\n",
    "#     min_max_scaler = preprocessing.MinMaxScaler()\n",
    "#     x_scaled = min_max_scaler.fit_transform(x)\n",
    "#     df = pd.DataFrame(x_scaled)\n",
    "    \n",
    "#     df.to_csv(f'./data_stratification/leedsbutterfly_{c}.csv', index=False)"
   ]
  },
  {
   "cell_type": "code",
   "execution_count": 5,
   "metadata": {},
   "outputs": [
    {
     "name": "stdout",
     "output_type": "stream",
     "text": [
      "[ 1  2  3  4  5  6  7  8  9 10]\n"
     ]
    }
   ],
   "source": [
    "print(np.unique([int(FILE_NAMES[_][0:3]) for _ in range(len(FILE_NAMES))]))"
   ]
  },
  {
   "cell_type": "code",
   "execution_count": 6,
   "metadata": {},
   "outputs": [],
   "source": [
    "y_expected = []\n",
    "\n",
    "for _ in range(len(FILE_NAMES)):\n",
    "    arr = np.zeros(10).astype(int)\n",
    "    arr[int(FILE_NAMES[_][0:3])-1] = 1\n",
    "    y_expected.append(list(arr))\n",
    "\n",
    "y_csv = pd.DataFrame(y_expected, columns=[str(_) for _ in range(10)])\n",
    "y_csv.to_csv('./data_stratification/y_expected.csv', index=False)"
   ]
  },
  {
   "cell_type": "code",
   "execution_count": 7,
   "metadata": {},
   "outputs": [],
   "source": [
    "from random import shuffle"
   ]
  },
  {
   "cell_type": "code",
   "execution_count": 8,
   "metadata": {},
   "outputs": [],
   "source": [
    "c = 6\n",
    "y_csv = pd.read_csv(f'./data_stratification/y_expected.csv')\n",
    "df = pd.read_csv(f'./data_stratification/leedsbutterfly_{c}.csv')"
   ]
  },
  {
   "cell_type": "code",
   "execution_count": 9,
   "metadata": {},
   "outputs": [],
   "source": [
    "unique_ids = list(np.unique([''.join(i) for i in zip(*[y_csv[label].astype(str) for label in y_csv.columns])]))"
   ]
  },
  {
   "cell_type": "code",
   "execution_count": 10,
   "metadata": {},
   "outputs": [],
   "source": [
    "y_csv['label'] = [''.join(i) for i in zip(*[y_csv[label].astype(str) for label in y_csv.columns])]"
   ]
  },
  {
   "cell_type": "code",
   "execution_count": 11,
   "metadata": {},
   "outputs": [],
   "source": [
    "indexes = []\n",
    "for one_hot in y_csv['label'].unique():\n",
    "    indexes.append(np.where(y_csv['label'] == one_hot)[0].tolist())\n"
   ]
  },
  {
   "cell_type": "markdown",
   "metadata": {},
   "source": [
    "#### **leed_buttefly str.**"
   ]
  },
  {
   "cell_type": "code",
   "execution_count": 32,
   "metadata": {},
   "outputs": [],
   "source": [
    "df_new = pd.DataFrame(columns=df.columns)\n",
    "\n",
    "idx = 0\n",
    "\n",
    "while True:\n",
    "    past_len = len(df_new)\n",
    "    for i in range(len(indexes)):\n",
    "        try:\n",
    "            # print(indexes[i][idx], end=\" \")\n",
    "            df_new.loc[len(df_new)] = df.loc[indexes[i][idx]]\n",
    "        except Exception as e:\n",
    "            continue\n",
    "    idx += 1\n",
    "    if past_len == len(df_new):\n",
    "        break\n",
    "\n",
    "df_new.to_csv('./data_stratification/leedsbutterfly_6_stratified.csv', index=False)"
   ]
  },
  {
   "cell_type": "markdown",
   "metadata": {},
   "source": [
    "#### **y_expected str.**"
   ]
  },
  {
   "cell_type": "code",
   "execution_count": 12,
   "metadata": {},
   "outputs": [],
   "source": [
    "idx = 0\n",
    "new_y = []\n",
    "\n",
    "while True:\n",
    "    past_len = len(new_y)\n",
    "    for i in range(len(indexes)):\n",
    "        try:\n",
    "            # print(indexes[i][idx], end=\" \")\n",
    "            # print(y_csv.iloc[indexes[i][idx]]['label'])   \n",
    "            new_y.append(y_csv.iloc[indexes[i][idx]]['label'])\n",
    "        except Exception as e:\n",
    "            continue\n",
    "            # print(e.__class__, e)\n",
    "    idx += 1\n",
    "    if past_len == len(new_y):\n",
    "        break"
   ]
  },
  {
   "cell_type": "code",
   "execution_count": 14,
   "metadata": {},
   "outputs": [],
   "source": [
    "with open('out.txt', 'w') as f:\n",
    "    sys.stdout = f\n",
    "    for ny in new_y:\n",
    "        print(ny)\n",
    "    sys.stdout = original_stdout\n",
    "    f.close()"
   ]
  },
  {
   "cell_type": "code",
   "execution_count": 29,
   "metadata": {},
   "outputs": [],
   "source": [
    "for i in range(len(new_y)):\n",
    "    new_y[i] = list(new_y[i])\n",
    "\n",
    "df_new_y = pd.DataFrame(new_y)\n",
    "df_new_y.to_csv('./data_stratification/y_expected_stratified.csv', index=False)"
   ]
  }
 ],
 "metadata": {
  "interpreter": {
   "hash": "7456eb868ca99292ffff3bf1d7b12754834a99054def52b4059fab15705f9916"
  },
  "kernelspec": {
   "display_name": "Python 3.10.4 ('venv': venv)",
   "language": "python",
   "name": "python3"
  },
  "language_info": {
   "codemirror_mode": {
    "name": "ipython",
    "version": 3
   },
   "file_extension": ".py",
   "mimetype": "text/x-python",
   "name": "python",
   "nbconvert_exporter": "python",
   "pygments_lexer": "ipython3",
   "version": "3.10.4"
  },
  "orig_nbformat": 4
 },
 "nbformat": 4,
 "nbformat_minor": 2
}
