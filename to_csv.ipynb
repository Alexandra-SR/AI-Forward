{
 "cells": [
  {
   "cell_type": "code",
   "execution_count": 48,
   "metadata": {},
   "outputs": [],
   "source": [
    "from PIL import Image\n",
    "import pywt\n",
    "import os\n",
    "import numpy as np\n",
    "import pandas as pd"
   ]
  },
  {
   "cell_type": "code",
   "execution_count": 49,
   "metadata": {},
   "outputs": [],
   "source": [
    "PATH = './leedsbutterfly/images/'\n",
    "FILE_NAMES = os.listdir(PATH)"
   ]
  },
  {
   "cell_type": "code",
   "execution_count": 50,
   "metadata": {},
   "outputs": [],
   "source": [
    "def get_FV(image, it=5):\n",
    "    LL, (LH, HL, HH) = pywt.dwt2(image, 'haar')\n",
    "    for _ in range(it):\n",
    "        LL, (LH, HL, HH) = pywt.dwt2(LL, 'haar')\n",
    "    return LL.flatten()"
   ]
  },
  {
   "cell_type": "code",
   "execution_count": 51,
   "metadata": {},
   "outputs": [],
   "source": [
    "cuts = [3, 4, 5, 6]\n",
    "for c in cuts:\n",
    "    FVs = []\n",
    "    for im in os.listdir(PATH):\n",
    "        image = Image.open(PATH + im).resize((100, 100))\n",
    "        mt_image = np.asarray(image).astype(int)\n",
    "        FVs.append(get_FV(mt_image, c).tolist())\n",
    "    cols = len(FVs[0])\n",
    "    df = pd.DataFrame(FVs, columns=[str(_) for _ in range(cols)])\n",
    "    df.to_csv(f'./data/leedsbutterfly_{c}.csv', index=False)"
   ]
  },
  {
   "cell_type": "code",
   "execution_count": 52,
   "metadata": {},
   "outputs": [
    {
     "name": "stdout",
     "output_type": "stream",
     "text": [
      "[ 1  2  3  4  5  6  7  8  9 10]\n"
     ]
    }
   ],
   "source": [
    "print(np.unique([int(FILE_NAMES[_][0:3]) for _ in range(len(FILE_NAMES))]))"
   ]
  },
  {
   "cell_type": "code",
   "execution_count": 53,
   "metadata": {},
   "outputs": [],
   "source": [
    "y_expected = []\n",
    "\n",
    "for _ in range(len(FILE_NAMES)):\n",
    "    arr = np.zeros(10).astype(int)\n",
    "    arr[int(FILE_NAMES[_][0:3])-1] = 1\n",
    "    y_expected.append(list(arr))\n",
    "\n",
    "y_csv = pd.DataFrame(y_expected, columns=[str(_) for _ in range(10)])\n",
    "y_csv.to_csv('./data/y_expected.csv', index=False)"
   ]
  }
 ],
 "metadata": {
  "interpreter": {
   "hash": "7456eb868ca99292ffff3bf1d7b12754834a99054def52b4059fab15705f9916"
  },
  "kernelspec": {
   "display_name": "Python 3.10.4 ('venv': venv)",
   "language": "python",
   "name": "python3"
  },
  "language_info": {
   "codemirror_mode": {
    "name": "ipython",
    "version": 3
   },
   "file_extension": ".py",
   "mimetype": "text/x-python",
   "name": "python",
   "nbconvert_exporter": "python",
   "pygments_lexer": "ipython3",
   "version": "3.10.4"
  },
  "orig_nbformat": 4
 },
 "nbformat": 4,
 "nbformat_minor": 2
}
